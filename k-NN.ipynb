{
 "cells": [
  {
   "cell_type": "code",
   "execution_count": null,
   "metadata": {},
   "outputs": [],
   "source": [
    "#Course:     DASC 8211 - Machine Learning\n",
    "#Module 04:  Supervised Learning — k-Nearest Neighbor Classification\n",
    "#More info:  https://scikit-learn.org/stable/modules/neighbors.html#nearest-neighbors-classification"
   ]
  },
  {
   "cell_type": "code",
   "execution_count": null,
   "metadata": {},
   "outputs": [],
   "source": [
    "import pandas as pd\n",
    "import matplotlib.pyplot as plt\n",
    "import seaborn as sns\n",
    "sns.set() \n",
    "from sklearn.datasets import load_iris\n",
    "from sklearn.metrics import accuracy_score, classification_report\n",
    "from sklearn.model_selection import train_test_split\n",
    "from sklearn.neighbors import KNeighborsClassifier"
   ]
  },
  {
   "cell_type": "code",
   "execution_count": null,
   "metadata": {},
   "outputs": [],
   "source": [
    "#load the data from sklearn.datasets\n",
    "data     = load_iris()\n",
    "\n",
    "#divide the data into the input 'X' and the labels 'y'\n",
    "X        = data['data'] #the observations\n",
    "y        = data['target'] #the label\n"
   ]
  },
  {
   "cell_type": "code",
   "execution_count": null,
   "metadata": {},
   "outputs": [],
   "source": [
    "#load the data in a pandas dataframe\n",
    "df          = pd.DataFrame(X, columns=['sepal length', 'sepal width', 'petal length', 'petal width'])\n",
    "df['class'] = [data['target_names'][idx] for idx in y]\n",
    "\n",
    "\n",    
    "#Optional: lets visualize the pairwise relationships between the features\n",
    "\n",    
    "#create the pairplot using seaborn\n",
    "sns.pairplot(df.dropna(), hue='class')\n",
    "plt.show()"
   ]
  },
  {
   "cell_type": "markdown",
   "metadata": {},
   "source": [
    "## Question 1: Choose *K*\n",
    "\n",
    "Run the cell below to build a model of the iris dataset using the k-NN algorithm. The program will try different values of k and will evaluate the accuracy of the predictions. A line graph will display the accuracy for each value of k. Evaluate the results from the graph and recommend the best value of *k*."
   ]
  },
  {
   "cell_type": "code",
   "execution_count": null,
   "metadata": {},
   "outputs": [],
   "source": [
    "#split the data into training and test sets\n",
    "X_train, X_test, y_train, y_test = train_test_split(X, y, \n",
    "                                                    test_size=0.4, \n",
    "                                                    stratify=y, \n",
    "                                                    random_state=7) #random_state for reproducibility\n",
    "\n",
    "#build the k-nn model using differnt values of k\n",
    "\n",
    "k = 1        \n",
    "accuracy = {}\n",
    "\n",
    "while k < 31:\n",
    "    knn = KNeighborsClassifier(n_neighbors = k) \n",
    "    knn.fit(X_train, y_train) #train the model\n",
    "    \n",
    "    predictions      = knn.predict(X_test) #use the model to make predictions\n",
    "    accuracy[str(k)] = round(accuracy_score(y_test, predictions), 3) * 100 #check the accuracy of the predictions using the test data\n",
    "    \n",
    "    k+=1\n",
    "\n",
    "plt.rcParams['figure.figsize'] = (20,8)  \n",
    "plt.title('The k-nn algorithm using differnt values of k.')\n",
    "plt.plot(list(accuracy.keys()), list(accuracy.values()))\n",
    "plt.xlabel('k', fontsize=18)\n",
    "plt.ylabel('Accuracy (%)', fontsize=16)\n",
    "plt.show()\n"
   ]
  },
  {
   "cell_type": "markdown",
   "metadata": {},
   "source": [
    "## Question 2: Evaluate the Results\n",
    "Input your recommendation for *k* in line 1 (in the cell below). Run the cell to view the classification report. Evaluate the accuracy of the results. Does the pair-plot above help to explain the level of accuracy for `versicolor` and `virginica` when compared with `setosa`?"
   ]
  },
  {
   "cell_type": "code",
   "execution_count": null,
   "metadata": {},
   "outputs": [],
   "source": [
    "k = None #replace 'None' with the value of k\n",
    "if k:\n",
    "    target_names = data['target_names']\n",
    "    knn          = KNeighborsClassifier(n_neighbors = k) \n",
    "\n",
    "    knn.fit(X_train, y_train) #train the model\n",
    "    y_pred = knn.predict(X_test) #check the prediction using the test set\n",
    "\n",
    "    #y_train, y_test\n",
    "    print(classification_report(y_test, y_pred, target_names=target_names))"
   ]
  }
 ],
 "metadata": {
  "kernelspec": {
   "display_name": "Python 3",
   "language": "python",
   "name": "python3"
  },
  "language_info": {
   "codemirror_mode": {
    "name": "ipython",
    "version": 3
   },
   "file_extension": ".py",
   "mimetype": "text/x-python",
   "name": "python",
   "nbconvert_exporter": "python",
   "pygments_lexer": "ipython3",
   "version": "3.7.4"
  }
 },
 "nbformat": 4,
 "nbformat_minor": 2
}
